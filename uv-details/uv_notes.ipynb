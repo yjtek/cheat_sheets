{
 "cells": [
  {
   "cell_type": "markdown",
   "id": "98b4b337",
   "metadata": {},
   "source": [
    "## Using UV"
   ]
  },
  {
   "cell_type": "markdown",
   "id": "89bca8a1",
   "metadata": {},
   "source": [
    "- "
   ]
  }
 ],
 "metadata": {
  "language_info": {
   "name": "python"
  }
 },
 "nbformat": 4,
 "nbformat_minor": 5
}
