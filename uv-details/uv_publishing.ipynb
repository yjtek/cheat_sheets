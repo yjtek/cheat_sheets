{
 "cells": [
  {
   "cell_type": "markdown",
   "id": "98b4b337",
   "metadata": {},
   "source": [
    "## Publishing package with `uv`"
   ]
  },
  {
   "cell_type": "markdown",
   "id": "89bca8a1",
   "metadata": {},
   "source": [
    "- https://packaging.python.org/en/latest/tutorials/packaging-projects/"
   ]
  },
  {
   "cell_type": "markdown",
   "id": "8f760422",
   "metadata": {},
   "source": [
    "- `uv` can be used as part of your publishing process, giving you the ability to generate the `.whl` and `tar.gz` files easily\n",
    "\n",
    "- We'll use `../write-cli-tools/argparse-greet` as an example package"
   ]
  },
  {
   "cell_type": "markdown",
   "id": "6b70e8a8",
   "metadata": {},
   "source": [
    "### Step 1: Set up `pyproject.toml`"
   ]
  },
  {
   "cell_type": "markdown",
   "id": "8d0ec851",
   "metadata": {},
   "source": [
    "- To publish, first thing we want to do is to standardise your `pyproject.toml` \n",
    "    - This will be used to determine the package metadata (version, author, etc) \n",
    "\n",
    "- Most importantly, we can use pyproject.toml to output the following\n",
    "\n",
    "```\n",
    "[project.scripts]\n",
    "greet = \"argparse_greet.main:main\"\n",
    "\n",
    "[build-system]\n",
    "requires = [\"hatchling >= 1.26\"]\n",
    "build-backend = \"hatchling.build\"\n",
    "\n",
    "[tool.hatch.build.targets.wheel]\n",
    "packages = [\"src/argparse_greet\"]\n",
    "\n",
    "[[tool.uv.index]]\n",
    "name = \"testpypi\"\n",
    "url = \"https://test.pypi.org/simple/\"\n",
    "publish-url = \"https://test.pypi.org/legacy/\"\n",
    "explicit = true\n",
    "```\n",
    "\n",
    "- `project.scripts` allows you to set cli for your python package. For instance, here I expose a cli command `greet` that looks up the `main()` function in `src/argparse_greet/main.py` \n",
    "\n",
    "- `build-system` lets you define which backend build you want to use. Either `hatchling` (for python only projects), or `setuptools` for more complex projects\n",
    "\n",
    "- `tool.hatch.build.targets.wheel` specifies package path you want to build\n",
    "\n",
    "- `tool.uv.index` specifies the index to publish to. Note that `[[]]` double braces means you can specify more than 1 index"
   ]
  },
  {
   "cell_type": "markdown",
   "id": "d22f35c0",
   "metadata": {},
   "source": [
    "### Step 2: Build"
   ]
  },
  {
   "cell_type": "markdown",
   "id": "0f2305b8",
   "metadata": {},
   "source": [
    "- It is super easy to build; just use `uv build` with the items specified above\n",
    "\n",
    "- Build will create a `dist` directory containing the `.whl` and `.tar.gz` of the package\n",
    "\n",
    "- Note that `build` is **version specific**, so remember to adjust the version parameter in the `pyproject.toml`"
   ]
  },
  {
   "cell_type": "markdown",
   "id": "0b95c781",
   "metadata": {},
   "source": [
    "- To test locally without publishing, you can run `uv pip install -e .` to install the package in your current virtualenv"
   ]
  },
  {
   "cell_type": "markdown",
   "id": "fa5c0990",
   "metadata": {},
   "source": [
    "### Step 3: Publish"
   ]
  },
  {
   "cell_type": "markdown",
   "id": "96d52e97",
   "metadata": {},
   "source": [
    "- As of May 2025, `uv publish` does not default to using `~/.pypirc`, where you have your username and password for the publish index specified. You COULD consider swapping to a CI based build, but that will take some effort. For ease, we use `twine` to manage our publishing\n",
    "\n",
    "- Set up your accounts with the relevant package registries. In the example, we will use `testpypi`\n",
    "\n",
    "- Set up your `~/.pypirc` file\n",
    "\n",
    "- Use twine to publish:\n",
    "```\n",
    "twine upload --repository testpypi dist/argparse_greet-0.1.4* --verbose\n",
    "``` "
   ]
  },
  {
   "cell_type": "markdown",
   "id": "b70dd21c",
   "metadata": {},
   "source": [
    "### Step 4: Test"
   ]
  },
  {
   "cell_type": "markdown",
   "id": "11a6e139",
   "metadata": {},
   "source": [
    "- To test your package, you can start a fresh environment and run install your package\n",
    "\n",
    "```\n",
    "uv pip install --index-url https://test.pypi.org/simple --extra-index-url https://pypi.org/simple argparse-greet\n",
    "```\n",
    "\n",
    "- In this case, since your test package is in `testpypi`, remember to supply the actual `pypi` as an extra index, for any dependencies that are missing from `testpypi`"
   ]
  }
 ],
 "metadata": {
  "language_info": {
   "name": "python"
  }
 },
 "nbformat": 4,
 "nbformat_minor": 5
}
