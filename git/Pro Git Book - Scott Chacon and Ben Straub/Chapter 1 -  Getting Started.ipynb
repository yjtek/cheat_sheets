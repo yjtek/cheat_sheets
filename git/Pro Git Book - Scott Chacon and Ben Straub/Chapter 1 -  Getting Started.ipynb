{
 "cells": [
  {
   "cell_type": "markdown",
   "id": "b4fc72df",
   "metadata": {},
   "source": [
    "# Chapter 1 - Getting Started"
   ]
  },
  {
   "cell_type": "markdown",
   "id": "d0dc0b88",
   "metadata": {},
   "source": [
    "## 1.1 - About Version Control"
   ]
  },
  {
   "cell_type": "markdown",
   "id": "3906e41f",
   "metadata": {},
   "source": [
    "- Historical ways of version control\n",
    "    - Manual: copy files to timestamped directories\n",
    "    - Local: Store path files, and apply/remove patches to restore a file's states\n",
    "    - Centralised: CVS, Subversion etc\n",
    "\n",
    "- Centralised version control comes with risks\n",
    "    - if the central server is down, you can't collaborate\n",
    "    - if hard disk is corrupted, you lose everything\n",
    "\n",
    "- This is why we have distributed version control like git\n",
    "    - Clients don't just check out the latest snapshot of the directory, but all commit history\n",
    "    - So even if the remote server dies, all clones are basically copies of the repo"
   ]
  },
  {
   "cell_type": "markdown",
   "id": "510bcf43",
   "metadata": {},
   "source": [
    "## 1.2 History of Git"
   ]
  },
  {
   "cell_type": "markdown",
   "id": "e31f160e",
   "metadata": {},
   "source": [
    "- Began in the Linux project\n",
    "- Linux initially used a proprietary version control system called BitKeeper\n",
    "- The relationship broke down, leading to the creation of Git in 2005"
   ]
  },
  {
   "cell_type": "markdown",
   "id": "094d1673",
   "metadata": {},
   "source": [
    "## 1.3 What is Git?"
   ]
  },
  {
   "cell_type": "markdown",
   "id": "3e39bac3",
   "metadata": {},
   "source": [
    "- While almost all other version control systems record their information as a list of file based changes (delta-based changes), Git sees changes as a stream of file snapshots. So files that are not changed just reference the previous snapshot, and files that are changed have their entire snapshot recorded\n",
    "\n",
    "- Git is almost exclusively local, which makes it much faster compared to any other version control system\n",
    "\n",
    "- All items in a git repo are checksummed using SHA-1 hash. This means that any change to the contents of a file will be reflected in the hash, and files are not referenced by their names, but by their hashes\n",
    "\n",
    "- Moreover, git is designed to only add data; so almost everything you do on git is reversible, because it is added onto previous commits"
   ]
  },
  {
   "cell_type": "markdown",
   "id": "c56b0522",
   "metadata": {},
   "source": [
    "## 1.4 - 1.7: Skipped for uselessness"
   ]
  }
 ],
 "metadata": {
  "language_info": {
   "name": "python"
  }
 },
 "nbformat": 4,
 "nbformat_minor": 5
}
