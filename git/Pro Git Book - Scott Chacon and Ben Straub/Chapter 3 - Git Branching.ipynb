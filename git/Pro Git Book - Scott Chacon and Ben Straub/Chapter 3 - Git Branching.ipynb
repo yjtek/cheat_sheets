{
 "cells": [
  {
   "cell_type": "markdown",
   "id": "6c9d9f3e",
   "metadata": {},
   "source": [
    "# Chapter 3 - Git Branching"
   ]
  },
  {
   "cell_type": "markdown",
   "id": "a995d8fa",
   "metadata": {},
   "source": [
    "## 3.1 - Branches in a Nutshell"
   ]
  },
  {
   "cell_type": "markdown",
   "id": "587e23b6",
   "metadata": {},
   "source": [
    "-"
   ]
  }
 ],
 "metadata": {
  "language_info": {
   "name": "python"
  }
 },
 "nbformat": 4,
 "nbformat_minor": 5
}
