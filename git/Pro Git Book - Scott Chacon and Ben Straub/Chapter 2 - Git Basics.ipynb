{
 "cells": [
  {
   "cell_type": "markdown",
   "id": "765c5a4d",
   "metadata": {},
   "source": [
    "# Chapter 2 - Git Basics"
   ]
  },
  {
   "cell_type": "markdown",
   "id": "7a33f1e1",
   "metadata": {},
   "source": [
    "## 2.1 - Getting a Git Repository"
   ]
  },
  {
   "cell_type": "markdown",
   "id": "ad1c6c14",
   "metadata": {},
   "source": [
    "- How to get a git repo:\n",
    "    - Clone an existing git repo: `git clone ...`\n",
    "    - Take a directory that isn't currently version controlled and turn it into a git repo: `cd /path/to/dir | git init`\n",
    "        - Note that `git init` alone doesn't add files to be tracked!! It just creates a `.git` folder\n",
    "        - To ask Git to start tracking all newly added files, run `git add .` then `git commit -m \"Initial commit\"`"
   ]
  },
  {
   "cell_type": "markdown",
   "id": "30deee32",
   "metadata": {},
   "source": [
    "## 2.2 - Recording Changes to the Repository"
   ]
  },
  {
   "cell_type": "markdown",
   "id": "ff1e4d74",
   "metadata": {},
   "source": [
    "- In Git, there are only 4 states any object can exist in\n",
    "    - Untracked: Git does not know about this file. No changes to the file is recorded\n",
    "    - Tracked: Git knows about this file, and follows any changes made to it\n",
    "        - Unmodified: If no changes are made to a tracked file, it is considered \"unmodified\"\n",
    "        - Modified: If some change is made to a tracked file, it is \"modified\"\n",
    "        - Staged: Once you are happy with your modifications, you add these files to \"stage\"; this is the final area before you finally commit (i.e merge) your changes to the repo. Once \"committed\", the file goes back to being \"Unmodified\""
   ]
  },
  {
   "cell_type": "markdown",
   "id": "559a2f7f",
   "metadata": {},
   "source": [
    "### Checking file status"
   ]
  },
  {
   "cell_type": "markdown",
   "id": "124fa63f",
   "metadata": {},
   "source": [
    "- For the most part, the stuff covered here is superceded by the IDE's GUI. But it's still good to know"
   ]
  },
  {
   "cell_type": "markdown",
   "id": "616ad74b",
   "metadata": {},
   "source": [
    "- To see what outstanding changes you've made, but are not getting tracked by Git, you can run `git status`. This gives you a summary of sorts, to see what modifications have been made. You'll see files tagged to one of the stages mentioned in the previous section (modified, staged) etc\n",
    "\n",
    "- To move from modified to staged, use `git add ...`\n",
    "\n",
    "- You can see the unstaged changes you've made using `git diff`, or see the staged changes using `git diff --staged`\n",
    "\n",
    "- Finally, commit the file using `git commit` \n",
    "\n",
    "- Since git is a file tracking software, you can't do some basic file operations without telling git about them. \n",
    "    - If you wish to remove a file from your working tree, you can't just delete it; you must also tell git to stop tracking it. Use `git rm ...` \n",
    "    - If you wish to move a file, use `git mv ...` "
   ]
  },
  {
   "cell_type": "markdown",
   "id": "05312002",
   "metadata": {},
   "source": [
    "## 2.3 Viewing Commit History"
   ]
  },
  {
   "cell_type": "markdown",
   "id": "089f634a",
   "metadata": {},
   "source": [
    "- `git log` shows you the commit history for your repo\n",
    "\n",
    "- `git log -p` shows you the commit history with diffs\n",
    "\n",
    "- There are some other details, but I don't think it's super important"
   ]
  },
  {
   "cell_type": "markdown",
   "id": "64d13d1d",
   "metadata": {},
   "source": [
    "## 2.4 Undoing Things"
   ]
  },
  {
   "cell_type": "markdown",
   "id": "e0f22435",
   "metadata": {},
   "source": [
    "- Sometimes, you accidentally commit things you don't mean (e.g. passwords, API keys, etc). In such cases, you may wish to undo your addition to the staging environment, undo a commit, or even remove a commit from your history entirely\n",
    "\n",
    "- To understand this better, there are some concepts we need to learn\n",
    "    1. Head --> The head of a branch is the point in the central repository's commit history that your branch is based on\n",
    "    2. Index --> The stuff that you've added to the staging environment\n",
    "    3. Working Tree --> The changes in your file directory that have not yet been staged\n",
    "\n",
    "- Let's work with a concrete scenario; imagine that you're testing some connection to an external service, and you commit your API keys into stage. This is obviously bad. How do we fix this? \n",
    "    - Scenario 1: You've only staged your changes, not committed to the remote \n",
    "        - This is the simplest to deal with by far; just run `git reset HEAD filename`. You've unwound all staged changes for the specific file to the HEAD of your branch. Now just remove the key from your working tree, and stage your edits again.\n",
    "        - Note that newer versions of git are shipped with `git restore filename`, which does the same thing\n",
    "    - Scenario 2: You've already committed your keys to the remote repo\n",
    "        1. You could do `git revert <commit-hash>`, which adds a new commit on top of the latest one, to remove the changes in the commit referenced by `commit-hash`.\n",
    "            - This is insufficient. Because your git history still contains the keys\n",
    "        2. To properly remove a commit from history, you need to rely on `git reset`. This is super powerful, but also very dangerous\n",
    "            - Why `git reset` is dangerous\n",
    "                - Imagine you have a chain of commits A -> B -> C\n",
    "                - You want to remove `B` from this chain, so the history becomes A -> C\n",
    "                - Then for anyone who branched from `B`, they will have trouble merging back into the master branch!\n",
    "            - How to remove a specific commit\n",
    "                - If local\n",
    "                    - `git rebase -i A`\n",
    "                - If remote\n",
    "                    - `git reset --hard <hash of A>`\n",
    "                    - `git cherry-pick <hash of C>`\n",
    "                    - `git cherry-pick <hash of D>`"
   ]
  },
  {
   "cell_type": "markdown",
   "id": "bfdfcd7b",
   "metadata": {},
   "source": [
    "### Details of `git reset`"
   ]
  },
  {
   "cell_type": "markdown",
   "id": "6871f2ec",
   "metadata": {},
   "source": [
    "- There are 3 modes of `git reset`\n",
    "    - `--soft` --> Move branch HEAD, keep staging changes, and working tree\n",
    "    - `--mixed` --> Move branch HEAD and reset staging changes, keeps working tree\n",
    "    - `--hard` --> Move branch HEAD, resets staging changes, and drops changes from working tree"
   ]
  },
  {
   "cell_type": "markdown",
   "id": "bf3a0e74",
   "metadata": {},
   "source": [
    "- In more modern git syntax, `git restore` is **STRONGLY** preferred, since it does not move the HEAD"
   ]
  },
  {
   "cell_type": "markdown",
   "id": "f1c10a4b",
   "metadata": {},
   "source": [
    "## 2.5 - Working with Remotes"
   ]
  },
  {
   "cell_type": "markdown",
   "id": "50b322bb",
   "metadata": {},
   "source": [
    "- A single repo can have multiple remotes.\n",
    "    - For example, let's say you fork a project, and you are maintaining the form somewhere else\n",
    "    - Then you want to pull from the original project `A`, and push to your maintained project `B`\n",
    "\n",
    "- Use `git remote -v` if you ever get confused about which remote you're working on\n",
    "\n",
    "- Use `git remote add upstream http://...` to add a new remote\n",
    "\n",
    "- Use `git fetch` to fetch updates from a remote branch\n",
    "\n",
    "- Use `git push origin ...` to push to a remote\n",
    "\n",
    "- Use `git remote remove` and/or `git remote rename` to change remotes\n"
   ]
  },
  {
   "cell_type": "markdown",
   "id": "40ae439e",
   "metadata": {},
   "source": [
    "## 2.6 - Git Tags"
   ]
  },
  {
   "cell_type": "markdown",
   "id": "d07215ed",
   "metadata": {},
   "source": [
    "- You can add tags to specific commits, especially at important milestones. This is typically used as hooks for CI jobs, so you when you commit a tagged branch to master, you also trigger deployment\n",
    "\n",
    "- `git tag` --> list tags\n",
    "\n",
    "- `git show v1.4` --> show tag details\n",
    "\n",
    "- `git tag -a <tag name> <commit-hash>` --> tag specific commits aafter you are past them\n",
    "\n",
    "- `git checkout v1.5` --> you can checkout specific tags too!"
   ]
  },
  {
   "cell_type": "markdown",
   "id": "a4b557a9",
   "metadata": {},
   "source": [
    "## 2.7 - Git Aliases"
   ]
  },
  {
   "cell_type": "markdown",
   "id": "d96f4834",
   "metadata": {},
   "source": [
    "- This isn't strictly a git functionality, but you can alias specific commands in git\n",
    "\n",
    "- For example `git config --global alias.unstage 'reset HEAD --'` will let you shorten `git reset HEAD --` into `git unstage`"
   ]
  },
  {
   "cell_type": "markdown",
   "id": "ee5a0f93",
   "metadata": {},
   "source": []
  }
 ],
 "metadata": {
  "language_info": {
   "name": "python"
  }
 },
 "nbformat": 4,
 "nbformat_minor": 5
}
