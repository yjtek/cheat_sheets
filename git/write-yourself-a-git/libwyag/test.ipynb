{
 "cells": [
  {
   "cell_type": "code",
   "execution_count": 1,
   "id": "132f9064",
   "metadata": {},
   "outputs": [],
   "source": [
    "# import grp, pwd\n",
    "# grp.getgrall()\n",
    "# grp.getgrgid(67)\n",
    "# grp.getgrnam('_ard')"
   ]
  },
  {
   "cell_type": "code",
   "execution_count": 15,
   "id": "6895b144",
   "metadata": {},
   "outputs": [],
   "source": [
    "# from configparser import ConfigParser\n",
    "\n",
    "# r = ConfigParser()\n",
    "# r.read(['/Users/yongjian.tek/Desktop/cheat_sheets/write-yourself-a-git/.git/config'])\n",
    "# for section in r.sections():\n",
    "#     for option in r.options(section):\n",
    "#         print(f'{section=} {option=} {r.get(section, option)=}')"
   ]
  },
  {
   "cell_type": "code",
   "execution_count": 4,
   "id": "60b8c75e",
   "metadata": {},
   "outputs": [
    {
     "data": {
      "text/plain": [
       "'/Users/yongjian.tek/Desktop/cheat_sheets/write-yourself-a-git'"
      ]
     },
     "execution_count": 4,
     "metadata": {},
     "output_type": "execute_result"
    }
   ],
   "source": [
    "import os\n",
    "path='.'\n",
    "os.path.realpath(path)\n",
    "os.path.realpath(os.path.join(path, \"..\"))"
   ]
  },
  {
   "cell_type": "code",
   "execution_count": 16,
   "id": "e9e63d88",
   "metadata": {},
   "outputs": [
    {
     "data": {
      "text/plain": [
       "b'8'"
      ]
     },
     "execution_count": 16,
     "metadata": {},
     "output_type": "execute_result"
    }
   ],
   "source": [
    "data='abcd1234'\n",
    "str(len(data)).encode() ##encoded to bytes"
   ]
  }
 ],
 "metadata": {
  "kernelspec": {
   "display_name": ".venv",
   "language": "python",
   "name": "python3"
  },
  "language_info": {
   "codemirror_mode": {
    "name": "ipython",
    "version": 3
   },
   "file_extension": ".py",
   "mimetype": "text/x-python",
   "name": "python",
   "nbconvert_exporter": "python",
   "pygments_lexer": "ipython3",
   "version": "3.11.10"
  }
 },
 "nbformat": 4,
 "nbformat_minor": 5
}
