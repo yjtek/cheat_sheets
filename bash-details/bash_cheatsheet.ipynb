{
 "cells": [
  {
   "cell_type": "markdown",
   "id": "18fbf509",
   "metadata": {},
   "source": [
    "# Bash Cheatsheet"
   ]
  },
  {
   "cell_type": "markdown",
   "id": "39b6170f",
   "metadata": {},
   "source": [
    "- freeCodeCamp: Bash Scripting Tutorial for Beginners\n",
    "    - https://www.youtube.com/watch?v=tK9Oc6AEnR4"
   ]
  },
  {
   "cell_type": "markdown",
   "id": "49990772",
   "metadata": {},
   "source": [
    "## Basics"
   ]
  },
  {
   "cell_type": "markdown",
   "id": "0b22211f",
   "metadata": {},
   "source": [
    "### Check which shell you're using"
   ]
  },
  {
   "cell_type": "markdown",
   "id": "85e1ad89",
   "metadata": {
    "vscode": {
     "languageId": "plaintext"
    }
   },
   "source": [
    "- `echo $SHELL`\n",
    "- Alternatively, just add your $SHELL path `#!/bin/zsh` to the top of your shell script prepended with an exclamation mark. your terminal will use the appropriate shell"
   ]
  },
  {
   "cell_type": "markdown",
   "id": "491bd101",
   "metadata": {},
   "source": [
    "### Printing to terminal"
   ]
  },
  {
   "cell_type": "markdown",
   "id": "62847713",
   "metadata": {
    "vscode": {
     "languageId": "plaintext"
    }
   },
   "source": [
    "- `echo some string`"
   ]
  },
  {
   "cell_type": "markdown",
   "id": "bd1ad40c",
   "metadata": {},
   "source": [
    "### Open txt file"
   ]
  },
  {
   "cell_type": "markdown",
   "id": "aeacb9e5",
   "metadata": {},
   "source": [
    "- `cat file.txt` --> Print to terminal\n",
    "- `vim file.txt` --> edit\n",
    "- `nano file.txt` --> edit, but in a less ridiculous text editor"
   ]
  },
  {
   "cell_type": "markdown",
   "id": "aaa7b450",
   "metadata": {},
   "source": [
    "### Write a shell script"
   ]
  },
  {
   "cell_type": "markdown",
   "id": "beb5714d",
   "metadata": {},
   "source": [
    "- `nano shelltest.sh`"
   ]
  },
  {
   "cell_type": "markdown",
   "id": "1f6f6049",
   "metadata": {},
   "source": [
    "### Make file executable"
   ]
  },
  {
   "cell_type": "markdown",
   "id": "e5d8c266",
   "metadata": {},
   "source": [
    "- `chmod u+x shelltest.sh`\n",
    "- `./shelltest.sh`"
   ]
  },
  {
   "cell_type": "markdown",
   "id": "78fd2118",
   "metadata": {},
   "source": [
    "## Shell Scripts"
   ]
  },
  {
   "cell_type": "markdown",
   "id": "93a08552",
   "metadata": {},
   "source": [
    "- Note: Always use variables where possible\n",
    "    ```\n",
    "    cp /some/location /some/other/location \n",
    "\n",
    "    SOME_LOC=/some/location\n",
    "    SOME_OTHER_LOC=/some/other/location \n",
    "    cp $SOME_LOC $SOME_OTHER_LOC\n",
    "    ```\n",
    "\n",
    "- Enable interaction with `read`\n",
    "    ```\n",
    "    echo what is your name?\n",
    "    read NAME\n",
    "    echo what is your age?\n",
    "    read AGE\n",
    "    echo HELLO $NAME $AGE\n",
    "    ```"
   ]
  },
  {
   "cell_type": "markdown",
   "id": "c1a1d2c7",
   "metadata": {},
   "source": [
    "- Positional arguments can be used in a script to enable easy access to args\n",
    "    ```\n",
    "    echo $1 $2\n",
    "    ```"
   ]
  },
  {
   "cell_type": "markdown",
   "id": "b2cdf609",
   "metadata": {
    "vscode": {
     "languageId": "plaintext"
    }
   },
   "source": [
    "- Commands can be piped using the `|` syntax\n",
    "    ```\n",
    "    ls -l /usr/bin | grep bash\n",
    "    ```"
   ]
  },
  {
   "cell_type": "markdown",
   "id": "4240031f",
   "metadata": {},
   "source": [
    "- Send output to file using `>` (overwrite) or `>>` (append)\n",
    "    ```\n",
    "    echo hello > test.txt\n",
    "    echo hello >> test.txt\n",
    "    ```"
   ]
  },
  {
   "cell_type": "markdown",
   "id": "e9dd3de6",
   "metadata": {},
   "source": [
    "- `<` and `<<` can be used for input. `<< EOF` is used for multiline input up to a designated delimiter (EOF in this case)\n",
    "    ```\n",
    "    cat << EOF\n",
    "    cat < file.txt\n",
    "    ```"
   ]
  },
  {
   "cell_type": "markdown",
   "id": "bc501dfc",
   "metadata": {},
   "source": [
    "- Boolean evaluation is possible in bash, but requires 2 lines. 1 statement for evaluation, and the second statement to print the outcome of the evaluation. Note that `$?` just means print the evaluation of the previous statement; 0 if succeed, 1 if fail\n",
    "    ```\n",
    "    [ hello = hello ]\n",
    "    echo $?\n",
    "    ``` "
   ]
  },
  {
   "cell_type": "markdown",
   "id": "504e240d",
   "metadata": {},
   "source": [
    "- `if else` statements are also possible in bash. FYI, `$1` means the first positional argument, and `,,` means lower case\n",
    "    ```\n",
    "    if [ {$1,,} = herbert ]; then\n",
    "        echo \"hello!!!\"\n",
    "    else\n",
    "        echo \"goodbye!!!\"\n",
    "    fi\n",
    "    ```"
   ]
  },
  {
   "cell_type": "markdown",
   "id": "dc5f5d3f",
   "metadata": {},
   "source": [
    "- `case` if you have multiple if statements; prevents confusion. `;;` will end the pattern block, and `esac` will end the case statement\n",
    "\n",
    "    ```\n",
    "    case $VARIABLE in\n",
    "        pattern1) \n",
    "            echo \"pattern1\"\n",
    "            ;;\n",
    "        pattern2)\n",
    "            echo \"pattern2\"\n",
    "            ;;\n",
    "        *)\n",
    "            echo \"no pattern\"\n",
    "            ;;\n",
    "    esac\n",
    "    ```\n",
    "\n",
    "- Arrays can be created in bash too using syntax. Note that to echo the entire array value, you need to do add an additional `[@]` syntax like so --> `${ARRAY[@]}`\n",
    "    ```\n",
    "    MYARRAY=(one two three)\n",
    "    echo $MYARRAY \n",
    "    echo ${MYARRAY[0]}\n",
    "    echo ${MYARRAY[@]}\n",
    "    ```\n",
    "\n",
    "- `for` loops also exist. `-n` here means no new line after echo; and `-c` means count characters\n",
    "    ```\n",
    "    for item in ${MYARRAY[@]}\n",
    "    do \n",
    "        echo -n $item | wc -c\n",
    "    done\n",
    "    ```\n",
    "\n",
    "- Similarly, bash also allows you to define functions\n",
    "    ```\n",
    "    func(){\n",
    "        local up=${uptime}\n",
    "        cat << EOF\n",
    "            ---\n",
    "            running since ${up}\n",
    "    EOF\n",
    "    }\n",
    "    func\n",
    "    ```\n",
    "\n",
    "- Note that when defining variables in bash script (i.e. var=123), these are **global** by default. If you want to keep it local to your script, remember to use `local var`"
   ]
  },
  {
   "cell_type": "markdown",
   "id": "5b5ff0ac",
   "metadata": {},
   "source": [
    "## `awk` and `sed`"
   ]
  },
  {
   "cell_type": "markdown",
   "id": "82f3fba8",
   "metadata": {},
   "source": [
    "- `awk` is used to filter file contents / command outputs so we can look at the most impt part\n",
    "    ```\n",
    "    echo one two three >> test.txt\n",
    "    awk '{print $1} test.txt' \n",
    "    ```\n",
    "\n",
    "- `awk` can also be used to split text file by character, using the `-F` flag\n",
    "    ```\n",
    "    echo one, two, three >> test.txt\n",
    "    ask -F, '{print $1}' test.txt\n",
    "    ```\n",
    "\n",
    "- `sed` on the other hand, is used to modify values in a txt file\n",
    "\n",
    "- Although truthfully, these are somewhat superceded by the availability of stuff like `vim`"
   ]
  }
 ],
 "metadata": {
  "language_info": {
   "name": "python"
  }
 },
 "nbformat": 4,
 "nbformat_minor": 5
}
