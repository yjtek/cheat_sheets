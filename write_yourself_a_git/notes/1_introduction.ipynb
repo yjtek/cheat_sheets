{
 "cells": [
  {
   "cell_type": "markdown",
   "metadata": {},
   "source": [
    "## Introduction"
   ]
  },
  {
   "cell_type": "markdown",
   "metadata": {},
   "source": [
    "- Let's implement the following `git` functions from scratch\n",
    "    - add \n",
    "    - cat-file \n",
    "    - check-ignore \n",
    "    - checkout \n",
    "    - commit \n",
    "    - hash-object \n",
    "    - init \n",
    "    - log \n",
    "    - ls-files \n",
    "    - ls-tree \n",
    "    - rev-parse \n",
    "    - rm \n",
    "    - show-ref \n",
    "    - status \n",
    "    - tag "
   ]
  },
  {
   "cell_type": "markdown",
   "metadata": {},
   "source": []
  }
 ],
 "metadata": {
  "language_info": {
   "name": "python"
  }
 },
 "nbformat": 4,
 "nbformat_minor": 2
}
